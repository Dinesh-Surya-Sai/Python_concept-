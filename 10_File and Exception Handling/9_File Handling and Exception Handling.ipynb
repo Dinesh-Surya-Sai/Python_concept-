{
 "cells": [
  {
   "cell_type": "markdown",
   "metadata": {},
   "source": [
    "# Today's Agenda\n",
    "#### File Handling\n",
    "> ### What is File?\n",
    "> ### How to create file?\n",
    "> ### How to handle files?\n",
    "#### Exception Handling\n",
    "> ### What is error?\n",
    "> ### What is the difference between error and exception?\n",
    "> ### What is try, except and finally\n",
    "> ### Why should we handle exceptions?"
   ]
  },
  {
   "cell_type": "code",
   "execution_count": null,
   "metadata": {},
   "outputs": [],
   "source": []
  },
  {
   "cell_type": "code",
   "execution_count": null,
   "metadata": {},
   "outputs": [],
   "source": []
  },
  {
   "cell_type": "markdown",
   "metadata": {},
   "source": [
    "**Data used in a program is temporary; unless the data is specifically saved, it is lost when the program terminates. To permanently store the data created in a program, you need to save it in a file on a disk or some other permanent storage device. The file can be transported and can be read later by other programs.**\n",
    "\n",
    "**Files can be classified into text or binary files. A file that can be processed (that is, read, created, or modified) using a text editor such as Notepad on Windows or vi on UNIX is called a text file. All the other files are called binary files. For example, Python source programs are stored in text files and can be processed by a text editor, but Microsoft Word files are stored in binary files and are processed by the Microsoft Word program.**\n",
    "\n",
    "**Computers do not differentiate between binary files and text files. All files are stored in binary format, and thus all files are essentially binary files. Text IO (input and output) is built upon binary IO to provide a level of abstraction for character encoding and decoding.**\n",
    "\n",
    "**In Python, files are accessed using the file objects. As a matter of fact, the file objects help us to access not just normal disk files but can help us to accomplish many other tasks involving other kinds of files**"
   ]
  },
  {
   "cell_type": "markdown",
   "metadata": {},
   "source": [
    "![image.png](capture1.png)"
   ]
  },
  {
   "cell_type": "markdown",
   "metadata": {},
   "source": [
    "# 1. Opening a file"
   ]
  },
  {
   "cell_type": "markdown",
   "metadata": {},
   "source": [
    "Python has a built-in function open() to open a file. This function returns a file object, also called a handle, as it is used to read or modify the file accordingly.\n",
    "\n",
    "`f = open(\"test.txt\")    # open file in current directory\n",
    "f = open(\"C:/Python33/README.txt\")  # specifying full path`\n",
    "\n",
    "We can specify the mode while opening a file. In mode, we specify whether we want to read 'r', write 'w' or append 'a' to the file. We also specify if we want to open the file in text mode or binary mode. The default is reading in text mode. In this mode, we get strings when reading from the file. On the other hand, binary mode returns bytes and this is the mode to be used when dealing with non-text files like image or exe files."
   ]
  },
  {
   "cell_type": "markdown",
   "metadata": {},
   "source": [
    "![image.png](capture2.png)"
   ]
  },
  {
   "cell_type": "markdown",
   "metadata": {},
   "source": [
    "# 2. Closing a file"
   ]
  },
  {
   "cell_type": "markdown",
   "metadata": {},
   "source": [
    "When we are done with operations to the file, we need to properly close the file. Closing a file will free up the resources that were tied with the file and is done using Python close() method. Python has a garbage collector to clean up unreferenced objects but, we must not rely on it to close the file.\n",
    "\n",
    "**`f = open(\"test.txt\",encoding = 'utf-8')\n",
    "...\n",
    "f.close()`**\n",
    "\n",
    "This method is not entirely safe. If an exception occurs when we are performing some operation with the file, the code exits without closing the file.A safer way is to use a try...finally block.\n",
    "\n",
    "**`try:\n",
    "   f = open(\"test.txt\",encoding = 'utf-8')\n",
    "   ...\n",
    "finally:\n",
    "   f.close()`**\n",
    "\n",
    "This way, we are guaranteed that the file is properly closed even if an exception is raised, causing program flow to stop.The best way to do this is using the with statement. This ensures that the file is closed when the block inside with is exited. We don't need to explicitly call the close() method. It is done internally.\n",
    "\n",
    "**`with open(\"test.txt\",encoding = 'utf-8') as f:\n",
    "   ...`**"
   ]
  },
  {
   "cell_type": "markdown",
   "metadata": {},
   "source": [
    "# 3. Writing to a file"
   ]
  },
  {
   "cell_type": "code",
   "execution_count": 12,
   "metadata": {},
   "outputs": [],
   "source": [
    "# open file for output\n",
    "\n",
    "try :\n",
    "    outfile = open('D:/Users/SWETHA BEERAM/Desktop/DS 157/Presidents.txt', \"w\")\n",
    "                   # write data to the file\n",
    "    outfile.write('Aishwarya\\n')\n",
    "    outfile.write('Divya\\n')\n",
    "    outfile.write('Srilekha\\n')\n",
    "    outfile.write('Sruthi\\n')\n",
    "    \n",
    "                   \n",
    "                   \n",
    "finally :\n",
    "        outfile.close()    # this closes the output file"
   ]
  },
  {
   "cell_type": "markdown",
   "metadata": {},
   "source": [
    "###### creating an empty file"
   ]
  },
  {
   "cell_type": "code",
   "execution_count": 13,
   "metadata": {},
   "outputs": [],
   "source": [
    "with open('innomatics.txt', \"x\") as f :\n",
    "    f.close()"
   ]
  },
  {
   "cell_type": "code",
   "execution_count": null,
   "metadata": {},
   "outputs": [],
   "source": []
  },
  {
   "cell_type": "markdown",
   "metadata": {},
   "source": [
    "# 4. Appending to a file"
   ]
  },
  {
   "cell_type": "code",
   "execution_count": 14,
   "metadata": {},
   "outputs": [],
   "source": [
    "# open file for output\n",
    "\n",
    "try :\n",
    "    outfile = open('D:/Users/SWETHA BEERAM/Desktop/DS 157/Presidents.txt', \"a\")\n",
    "    # write data to the file\n",
    "    outfile.write('Manasa\\n')\n",
    "    outfile.write('Sruthi\\n')\n",
    "    \n",
    "finally :\n",
    "    outfile.close()"
   ]
  },
  {
   "cell_type": "code",
   "execution_count": null,
   "metadata": {},
   "outputs": [],
   "source": []
  },
  {
   "cell_type": "code",
   "execution_count": null,
   "metadata": {},
   "outputs": [],
   "source": []
  },
  {
   "cell_type": "markdown",
   "metadata": {},
   "source": [
    "# 5. Reading from a file\n",
    "\n",
    "### Method 1: using read()"
   ]
  },
  {
   "cell_type": "code",
   "execution_count": 15,
   "metadata": {},
   "outputs": [
    {
     "name": "stdout",
     "output_type": "stream",
     "text": [
      "Aishwarya\n",
      "Divya\n",
      "Srilekha\n",
      "Sruthi\n",
      "Manasa\n",
      "Sruthi\n",
      "\n"
     ]
    }
   ],
   "source": [
    "# open file for input\n",
    "\n",
    "try :\n",
    "    infile = open('D:/Users/SWETHA BEERAM/Desktop/DS 157/Presidents.txt', 'r')\n",
    "    # read data from file\n",
    "    print(infile.read())\n",
    "    \n",
    "finally :\n",
    "    infile.close()"
   ]
  },
  {
   "cell_type": "markdown",
   "metadata": {},
   "source": [
    "#### Method 2 : using read(int)"
   ]
  },
  {
   "cell_type": "code",
   "execution_count": 16,
   "metadata": {},
   "outputs": [
    {
     "name": "stdout",
     "output_type": "stream",
     "text": [
      "Aish\n"
     ]
    }
   ],
   "source": [
    "# open file for input\n",
    "\n",
    "try :\n",
    "    infile = open('D:/Users/SWETHA BEERAM/Desktop/DS 157/Presidents.txt', 'r')\n",
    "    # read data from file\n",
    "    s1 = infile.read(4)\n",
    "    print(s1)\n",
    "finally :\n",
    "    infile.close()"
   ]
  },
  {
   "cell_type": "code",
   "execution_count": 17,
   "metadata": {},
   "outputs": [
    {
     "name": "stdout",
     "output_type": "stream",
     "text": [
      "Aish\n",
      "warya\n",
      "Divya\n"
     ]
    }
   ],
   "source": [
    "# open file for input\n",
    "\n",
    "try :\n",
    "    infile = open('D:/Users/SWETHA BEERAM/Desktop/DS 157/Presidents.txt', 'r')\n",
    "    # read data from file\n",
    "    s1 = infile.read(4)\n",
    "    print(s1)\n",
    "    s2 = infile.read(11)\n",
    "    print(s2)\n",
    "finally :\n",
    "    infile.close()"
   ]
  },
  {
   "cell_type": "markdown",
   "metadata": {},
   "source": [
    "##### Method 3 : using readline( )"
   ]
  },
  {
   "cell_type": "code",
   "execution_count": 20,
   "metadata": {},
   "outputs": [
    {
     "name": "stdout",
     "output_type": "stream",
     "text": [
      "Aishwarya\n",
      " Divya\n",
      " Srilekha\n",
      " Sruthi\n",
      " "
     ]
    }
   ],
   "source": [
    "# open file for input\n",
    "\n",
    "try :\n",
    "    infile = open('D:/Users/SWETHA BEERAM/Desktop/DS 157/Presidents.txt', 'r')\n",
    "    # read data from file\n",
    "    line1 = infile.readline()\n",
    "    line2 = infile.readline()\n",
    "    line3 = infile.readline()\n",
    "    line4 = infile.readline()\n",
    "    print(line1, end = \" \")\n",
    "    print(line2, end = \" \")\n",
    "    print(line3, end = \" \")\n",
    "    print(line4, end = \" \")\n",
    "    \n",
    "finally :\n",
    "    infile.close()"
   ]
  },
  {
   "cell_type": "markdown",
   "metadata": {},
   "source": [
    "##### Method 4 : readlines( )"
   ]
  },
  {
   "cell_type": "code",
   "execution_count": 21,
   "metadata": {},
   "outputs": [
    {
     "name": "stdout",
     "output_type": "stream",
     "text": [
      "['Aishwarya\\n', 'Divya\\n', 'Srilekha\\n', 'Sruthi\\n', 'Manasa\\n', 'Sruthi\\n']\n"
     ]
    }
   ],
   "source": [
    "# open file for input\n",
    "\n",
    "try :\n",
    "    infile = open('D:/Users/SWETHA BEERAM/Desktop/DS 157/Presidents.txt', 'r')\n",
    "    # read data from file\n",
    "    print(infile.readlines())\n",
    "finally :\n",
    "    infile.close()"
   ]
  },
  {
   "cell_type": "markdown",
   "metadata": {},
   "source": [
    "###### We can read a file line by line using a for loop which is efficient and faster"
   ]
  },
  {
   "cell_type": "code",
   "execution_count": 23,
   "metadata": {},
   "outputs": [
    {
     "name": "stdout",
     "output_type": "stream",
     "text": [
      "Aishwarya\n",
      "\n",
      "Divya\n",
      "\n",
      "Srilekha\n",
      "\n",
      "Sruthi\n",
      "\n",
      "Manasa\n",
      "\n",
      "Sruthi\n",
      "\n"
     ]
    }
   ],
   "source": [
    "try :\n",
    "    infile = open('D:/Users/SWETHA BEERAM/Desktop/DS 157/Presidents.txt', 'r')\n",
    "    # read data from file\n",
    "    for line in infile :\n",
    "        print(line)\n",
    "finally :\n",
    "    infile.close()"
   ]
  },
  {
   "cell_type": "code",
   "execution_count": null,
   "metadata": {},
   "outputs": [],
   "source": []
  },
  {
   "cell_type": "markdown",
   "metadata": {},
   "source": [
    "# 6. Testing file's existence\n",
    "To prevent the data in an existing file from being erased by accident, you should test to see if the file exists before opening it for writing. The isfile function in the os.path module canbe used to determine whether a file exists."
   ]
  },
  {
   "cell_type": "code",
   "execution_count": 24,
   "metadata": {},
   "outputs": [
    {
     "name": "stdout",
     "output_type": "stream",
     "text": [
      "Presidents.txt exists\n"
     ]
    }
   ],
   "source": [
    "import os.path\n",
    "if os.path.isfile('D:/Users/SWETHA BEERAM/Desktop/DS 157/Presidents.txt'):\n",
    "    print(\"Presidents.txt exists\")"
   ]
  },
  {
   "cell_type": "code",
   "execution_count": 25,
   "metadata": {},
   "outputs": [],
   "source": [
    "import os.path\n",
    "if os.path.isfile('D:/Users/SWETHA BEERAM/Desktop/DS 157/Presidents1.txt'):\n",
    "    print(\"Presidents.txt exists\")"
   ]
  },
  {
   "cell_type": "markdown",
   "metadata": {},
   "source": [
    "# Exception Handling\n",
    "\n",
    "\n",
    "#### Exception handling enables a program to deal with exceptions and continue its normal execution.\n",
    "\n",
    "#### When writing a program, we, more often than not, will encounter errors.\n",
    "\n",
    "#### Error caused by not following the proper structure (syntax) of the language is called syntax error or parsing error."
   ]
  },
  {
   "cell_type": "code",
   "execution_count": 1,
   "metadata": {},
   "outputs": [
    {
     "ename": "SyntaxError",
     "evalue": "invalid syntax (Temp/ipykernel_14832/2849742349.py, line 1)",
     "output_type": "error",
     "traceback": [
      "\u001b[1;36m  File \u001b[1;32m\"C:\\Users\\MANIKA~1\\AppData\\Local\\Temp/ipykernel_14832/2849742349.py\"\u001b[1;36m, line \u001b[1;32m1\u001b[0m\n\u001b[1;33m    if a > 6\u001b[0m\n\u001b[1;37m            ^\u001b[0m\n\u001b[1;31mSyntaxError\u001b[0m\u001b[1;31m:\u001b[0m invalid syntax\n"
     ]
    }
   ],
   "source": [
    "if a > 6"
   ]
  },
  {
   "cell_type": "code",
   "execution_count": 2,
   "metadata": {},
   "outputs": [
    {
     "ename": "IndentationError",
     "evalue": "expected an indented block (Temp/ipykernel_14832/4111864138.py, line 1)",
     "output_type": "error",
     "traceback": [
      "\u001b[1;36m  File \u001b[1;32m\"C:\\Users\\MANIKA~1\\AppData\\Local\\Temp/ipykernel_14832/4111864138.py\"\u001b[1;36m, line \u001b[1;32m1\u001b[0m\n\u001b[1;33m    if a >6 :\u001b[0m\n\u001b[1;37m             ^\u001b[0m\n\u001b[1;31mIndentationError\u001b[0m\u001b[1;31m:\u001b[0m expected an indented block\n"
     ]
    }
   ],
   "source": [
    "if a >6 :"
   ]
  },
  {
   "cell_type": "markdown",
   "metadata": {},
   "source": [
    "`Errors` can also occur at runtime and these are called exceptions. They occur, for example, when a file we try to open does not exist (FileNotFoundError), dividing a number by zero (ZeroDivisionError), module we try to import is not found (ImportError) etc.\n",
    "\n",
    "Whenever these type of runtime error occur, Python creates an exception object. If not handled properly, it prints a traceback to that error along with some details about why that error occurred."
   ]
  },
  {
   "cell_type": "code",
   "execution_count": 4,
   "metadata": {},
   "outputs": [
    {
     "name": "stdout",
     "output_type": "stream",
     "text": [
      "Enter numerator :9\n",
      "Enter denominator : 0\n"
     ]
    },
    {
     "ename": "ZeroDivisionError",
     "evalue": "division by zero",
     "output_type": "error",
     "traceback": [
      "\u001b[1;31m---------------------------------------------------------------------------\u001b[0m",
      "\u001b[1;31mZeroDivisionError\u001b[0m                         Traceback (most recent call last)",
      "\u001b[1;32mC:\\Users\\MANIKA~1\\AppData\\Local\\Temp/ipykernel_14832/166685680.py\u001b[0m in \u001b[0;36m<module>\u001b[1;34m\u001b[0m\n\u001b[0;32m      2\u001b[0m \u001b[0mb\u001b[0m \u001b[1;33m=\u001b[0m \u001b[0meval\u001b[0m\u001b[1;33m(\u001b[0m\u001b[0minput\u001b[0m\u001b[1;33m(\u001b[0m\u001b[1;34m\"Enter denominator : \"\u001b[0m\u001b[1;33m)\u001b[0m\u001b[1;33m)\u001b[0m\u001b[1;33m\u001b[0m\u001b[1;33m\u001b[0m\u001b[0m\n\u001b[0;32m      3\u001b[0m \u001b[1;33m\u001b[0m\u001b[0m\n\u001b[1;32m----> 4\u001b[1;33m \u001b[0mc\u001b[0m \u001b[1;33m=\u001b[0m \u001b[0ma\u001b[0m\u001b[1;33m/\u001b[0m\u001b[0mb\u001b[0m\u001b[1;33m\u001b[0m\u001b[1;33m\u001b[0m\u001b[0m\n\u001b[0m\u001b[0;32m      5\u001b[0m \u001b[1;33m\u001b[0m\u001b[0m\n\u001b[0;32m      6\u001b[0m \u001b[0mprint\u001b[0m\u001b[1;33m(\u001b[0m\u001b[0mc\u001b[0m\u001b[1;33m)\u001b[0m\u001b[1;33m\u001b[0m\u001b[1;33m\u001b[0m\u001b[0m\n",
      "\u001b[1;31mZeroDivisionError\u001b[0m: division by zero"
     ]
    }
   ],
   "source": [
    "a = int(input('Enter numerator :'))\n",
    "b = eval(input(\"Enter denominator : \"))\n",
    "\n",
    "c = a/b\n",
    "\n",
    "print(c)\n"
   ]
  },
  {
   "cell_type": "code",
   "execution_count": 5,
   "metadata": {},
   "outputs": [
    {
     "ename": "SyntaxError",
     "evalue": "EOL while scanning string literal (Temp/ipykernel_14832/3639009714.py, line 1)",
     "output_type": "error",
     "traceback": [
      "\u001b[1;36m  File \u001b[1;32m\"C:\\Users\\MANIKA~1\\AppData\\Local\\Temp/ipykernel_14832/3639009714.py\"\u001b[1;36m, line \u001b[1;32m1\u001b[0m\n\u001b[1;33m    print('hi)\u001b[0m\n\u001b[1;37m              ^\u001b[0m\n\u001b[1;31mSyntaxError\u001b[0m\u001b[1;31m:\u001b[0m EOL while scanning string literal\n"
     ]
    }
   ],
   "source": [
    "print('hi)"
   ]
  },
  {
   "cell_type": "code",
   "execution_count": 6,
   "metadata": {},
   "outputs": [
    {
     "ename": "TypeError",
     "evalue": "can only concatenate str (not \"int\") to str",
     "output_type": "error",
     "traceback": [
      "\u001b[1;31m---------------------------------------------------------------------------\u001b[0m",
      "\u001b[1;31mTypeError\u001b[0m                                 Traceback (most recent call last)",
      "\u001b[1;32mC:\\Users\\MANIKA~1\\AppData\\Local\\Temp/ipykernel_14832/1138803684.py\u001b[0m in \u001b[0;36m<module>\u001b[1;34m\u001b[0m\n\u001b[1;32m----> 1\u001b[1;33m \u001b[1;34m'inno'\u001b[0m \u001b[1;33m+\u001b[0m \u001b[1;36m6\u001b[0m\u001b[1;33m\u001b[0m\u001b[1;33m\u001b[0m\u001b[0m\n\u001b[0m",
      "\u001b[1;31mTypeError\u001b[0m: can only concatenate str (not \"int\") to str"
     ]
    }
   ],
   "source": [
    "'inno' + 6"
   ]
  },
  {
   "cell_type": "markdown",
   "metadata": {},
   "source": [
    "The lengthy error message is called a stack traceback or traceback. The traceback gives information on the statement that caused the error by tracing back to the function calls that led to this statement. The line numbers of the function calls are displayed in the error message for tracing the errors.\n",
    "\n",
    "How can you deal with an exception so that the program can catch the error and prompt the user to enter a correct number? This can be done using Python’s exception handling syntax.\n",
    "\n",
    "In Python, exceptions can be handled using a **try statement**. A critical operation which can raise exception is placed inside the try clause and the code that handles exception is written in **except clause**.It is up to us, what operations we perform once we have caught the exception.\n",
    "\n",
    "\n",
    "Syntax is\n",
    "\n",
    "\n",
    "try :\n",
    "\n",
    "    we can write our code here\n",
    "    \n",
    "except exception :\n",
    "\n",
    "    write the statements\n",
    "    \n",
    "    \n",
    "    \n",
    "\n",
    "\n",
    "another syntax is\n",
    "\n",
    "try :\n",
    "\n",
    "    we can write our code here\n",
    "    \n",
    "except exception1 :\n",
    "\n",
    "    if there is exception1, then it executes this block\n",
    "    \n",
    "except exception2:\n",
    "\n",
    "    if there is exception2, then it executes this block\n",
    "    \n",
    ". . . . . . . . \n",
    "\n",
    ". . . . . . . .\n",
    "\n",
    "else :\n",
    "\n",
    "    if there is no exception, then it executes else block of code\n",
    "\n"
   ]
  },
  {
   "cell_type": "code",
   "execution_count": 9,
   "metadata": {},
   "outputs": [
    {
     "name": "stdout",
     "output_type": "stream",
     "text": [
      "Enter numerator :9\n",
      "Enter denominator : 0\n"
     ]
    },
    {
     "ename": "ZeroDivisionError",
     "evalue": "division by zero",
     "output_type": "error",
     "traceback": [
      "\u001b[1;31m---------------------------------------------------------------------------\u001b[0m",
      "\u001b[1;31mZeroDivisionError\u001b[0m                         Traceback (most recent call last)",
      "\u001b[1;32mC:\\Users\\MANIKA~1\\AppData\\Local\\Temp/ipykernel_14832/166685680.py\u001b[0m in \u001b[0;36m<module>\u001b[1;34m\u001b[0m\n\u001b[0;32m      2\u001b[0m \u001b[0mb\u001b[0m \u001b[1;33m=\u001b[0m \u001b[0meval\u001b[0m\u001b[1;33m(\u001b[0m\u001b[0minput\u001b[0m\u001b[1;33m(\u001b[0m\u001b[1;34m\"Enter denominator : \"\u001b[0m\u001b[1;33m)\u001b[0m\u001b[1;33m)\u001b[0m\u001b[1;33m\u001b[0m\u001b[1;33m\u001b[0m\u001b[0m\n\u001b[0;32m      3\u001b[0m \u001b[1;33m\u001b[0m\u001b[0m\n\u001b[1;32m----> 4\u001b[1;33m \u001b[0mc\u001b[0m \u001b[1;33m=\u001b[0m \u001b[0ma\u001b[0m\u001b[1;33m/\u001b[0m\u001b[0mb\u001b[0m\u001b[1;33m\u001b[0m\u001b[1;33m\u001b[0m\u001b[0m\n\u001b[0m\u001b[0;32m      5\u001b[0m \u001b[1;33m\u001b[0m\u001b[0m\n\u001b[0;32m      6\u001b[0m \u001b[0mprint\u001b[0m\u001b[1;33m(\u001b[0m\u001b[0mc\u001b[0m\u001b[1;33m)\u001b[0m\u001b[1;33m\u001b[0m\u001b[1;33m\u001b[0m\u001b[0m\n",
      "\u001b[1;31mZeroDivisionError\u001b[0m: division by zero"
     ]
    }
   ],
   "source": [
    "a = int(input('Enter numerator :'))\n",
    "b = eval(input(\"Enter denominator : \"))\n",
    "\n",
    "c = a/b\n",
    "\n",
    "print(c)\n"
   ]
  },
  {
   "cell_type": "code",
   "execution_count": 8,
   "metadata": {},
   "outputs": [
    {
     "name": "stdout",
     "output_type": "stream",
     "text": [
      "Enter numerator :8\n",
      "Enter denominator : 0\n",
      "When denominator is given as 0, division is not performed\n"
     ]
    }
   ],
   "source": [
    "a = int(input('Enter numerator :'))\n",
    "b = eval(input(\"Enter denominator : \"))\n",
    "\n",
    "try :\n",
    "    c = a/b\n",
    "    print(c)\n",
    "\n",
    "except ZeroDivisionError :\n",
    "    print('When denominator is given as 0, division is not performed')\n"
   ]
  },
  {
   "cell_type": "code",
   "execution_count": 19,
   "metadata": {},
   "outputs": [
    {
     "name": "stdout",
     "output_type": "stream",
     "text": [
      "Enter two numbers, separated by a comma : 6, 7\n",
      "Result is  0.8571428571428571\n",
      "There are no exceptions\n"
     ]
    }
   ],
   "source": [
    "try :\n",
    "    number1, number2 = eval(input('Enter two numbers, separated by a comma : '))\n",
    "    result = number1 / number2\n",
    "    print('Result is ', result)\n",
    "    \n",
    "except ZeroDivisionError :\n",
    "    print('Division by zero')\n",
    "except SyntaxError :\n",
    "    print('A comma is missed in the input')\n",
    "except :\n",
    "    print('Something wrong in the input')\n",
    "else \n",
    "    print('There are no exceptions')\n"
   ]
  },
  {
   "cell_type": "code",
   "execution_count": 20,
   "metadata": {},
   "outputs": [
    {
     "name": "stdout",
     "output_type": "stream",
     "text": [
      "Enter two numbers, separated by a comma : 6, 0\n",
      "Division by zero\n"
     ]
    }
   ],
   "source": [
    "try :\n",
    "    number1, number2 = eval(input('Enter two numbers, separated by a comma : '))\n",
    "    result = number1 / number2\n",
    "    print('Result is ', result)\n",
    "    \n",
    "except ZeroDivisionError :\n",
    "    print('Division by zero')\n",
    "except SyntaxError :\n",
    "    print('A comma is missed in the input')\n",
    "except :\n",
    "    print('Something wrong in the input')\n",
    "else :\n",
    "    print('There are no exceptions')\n"
   ]
  },
  {
   "cell_type": "code",
   "execution_count": 21,
   "metadata": {},
   "outputs": [
    {
     "name": "stdout",
     "output_type": "stream",
     "text": [
      "Enter two numbers, separated by a comma : 6 7\n",
      "A comma is missed in the input\n"
     ]
    }
   ],
   "source": [
    "try :\n",
    "    number1, number2 = eval(input('Enter two numbers, separated by a comma : '))\n",
    "    result = number1 / number2\n",
    "    print('Result is ', result)\n",
    "    \n",
    "except ZeroDivisionError :\n",
    "    print('Division by zero')\n",
    "except SyntaxError :\n",
    "    print('A comma is missed in the input')\n",
    "except :\n",
    "    print('Something wrong in the input')\n",
    "else :\n",
    "    print('There are no exceptions')\n"
   ]
  },
  {
   "cell_type": "code",
   "execution_count": 22,
   "metadata": {},
   "outputs": [
    {
     "name": "stdout",
     "output_type": "stream",
     "text": [
      "Enter two numbers, separated by a comma : strrr, 3\n",
      "Something wrong in the input\n"
     ]
    }
   ],
   "source": [
    "try :\n",
    "    number1, number2 = eval(input('Enter two numbers, separated by a comma : '))\n",
    "    result = number1 / number2\n",
    "    print('Result is ', result)\n",
    "    \n",
    "except ZeroDivisionError :\n",
    "    print('Division by zero')\n",
    "except SyntaxError :\n",
    "    print('A comma is missed in the input')\n",
    "except :\n",
    "    print('Something wrong in the input')\n",
    "else :\n",
    "    print('There are no exceptions')\n"
   ]
  },
  {
   "cell_type": "code",
   "execution_count": 24,
   "metadata": {},
   "outputs": [
    {
     "name": "stdout",
     "output_type": "stream",
     "text": [
      "Enter two numbers, separated by a comma : adfdfds, 7\n"
     ]
    },
    {
     "ename": "NameError",
     "evalue": "name 'adfdfds' is not defined",
     "output_type": "error",
     "traceback": [
      "\u001b[1;31m---------------------------------------------------------------------------\u001b[0m",
      "\u001b[1;31mNameError\u001b[0m                                 Traceback (most recent call last)",
      "\u001b[1;32mC:\\Users\\MANIKA~1\\AppData\\Local\\Temp/ipykernel_14832/823778289.py\u001b[0m in \u001b[0;36m<module>\u001b[1;34m\u001b[0m\n\u001b[1;32m----> 1\u001b[1;33m \u001b[0mnumber1\u001b[0m\u001b[1;33m,\u001b[0m \u001b[0mnumber2\u001b[0m \u001b[1;33m=\u001b[0m \u001b[0meval\u001b[0m\u001b[1;33m(\u001b[0m\u001b[0minput\u001b[0m\u001b[1;33m(\u001b[0m\u001b[1;34m'Enter two numbers, separated by a comma : '\u001b[0m\u001b[1;33m)\u001b[0m\u001b[1;33m)\u001b[0m\u001b[1;33m\u001b[0m\u001b[1;33m\u001b[0m\u001b[0m\n\u001b[0m\u001b[0;32m      2\u001b[0m \u001b[0mresult\u001b[0m \u001b[1;33m=\u001b[0m \u001b[0mnumber1\u001b[0m \u001b[1;33m/\u001b[0m \u001b[0mnumber2\u001b[0m\u001b[1;33m\u001b[0m\u001b[1;33m\u001b[0m\u001b[0m\n\u001b[0;32m      3\u001b[0m \u001b[0mprint\u001b[0m\u001b[1;33m(\u001b[0m\u001b[1;34m'Result is '\u001b[0m\u001b[1;33m,\u001b[0m \u001b[0mresult\u001b[0m\u001b[1;33m)\u001b[0m\u001b[1;33m\u001b[0m\u001b[1;33m\u001b[0m\u001b[0m\n\u001b[0;32m      4\u001b[0m \u001b[1;33m\u001b[0m\u001b[0m\n",
      "\u001b[1;32m<string>\u001b[0m in \u001b[0;36m<module>\u001b[1;34m\u001b[0m\n",
      "\u001b[1;31mNameError\u001b[0m: name 'adfdfds' is not defined"
     ]
    }
   ],
   "source": [
    "number1, number2 = eval(input('Enter two numbers, separated by a comma : '))\n",
    "result = number1 / number2\n",
    "print('Result is ', result)\n",
    "    "
   ]
  },
  {
   "cell_type": "code",
   "execution_count": null,
   "metadata": {},
   "outputs": [],
   "source": []
  },
  {
   "cell_type": "markdown",
   "metadata": {},
   "source": [
    "## 2. Catching specific exceptions"
   ]
  },
  {
   "cell_type": "markdown",
   "metadata": {},
   "source": [
    "This is not a good programming practice as it will catch all exceptions and handle every case in the same way. We can specify which exceptions an except clause will catch. A try clause can have any number of except clause to handle them differently but only one will be executed in case an exception occurs. We can use a tuple of values to specify multiple exceptions in an except clause. Here is an example pseudo code.\n",
    "\n",
    "**Note: pass** statement In Python programming, **pass** is a null statement. The difference between a comment and **pass** statement in Python is that, while the interpreter ignores a comment entirely, pass is not ignored. However, nothing happens when pass is executed. It results into no operation (NOP).\n",
    "\n",
    "Suppose we have a loop or a function that is not implemented yet, but we want to implement it in the future. They cannot have an empty body. The interpreter would complain. So, we use the pass statement to construct a body that does nothing."
   ]
  },
  {
   "cell_type": "code",
   "execution_count": 11,
   "metadata": {},
   "outputs": [
    {
     "ename": "IndentationError",
     "evalue": "expected an indented block (Temp/ipykernel_14832/3408579172.py, line 2)",
     "output_type": "error",
     "traceback": [
      "\u001b[1;36m  File \u001b[1;32m\"C:\\Users\\MANIKA~1\\AppData\\Local\\Temp/ipykernel_14832/3408579172.py\"\u001b[1;36m, line \u001b[1;32m2\u001b[0m\n\u001b[1;33m    \u001b[0m\n\u001b[1;37m    ^\u001b[0m\n\u001b[1;31mIndentationError\u001b[0m\u001b[1;31m:\u001b[0m expected an indented block\n"
     ]
    }
   ],
   "source": [
    "if a > 3 :\n",
    "    "
   ]
  },
  {
   "cell_type": "code",
   "execution_count": 12,
   "metadata": {},
   "outputs": [],
   "source": [
    "if a>3 :\n",
    "    pass"
   ]
  },
  {
   "cell_type": "code",
   "execution_count": 14,
   "metadata": {},
   "outputs": [
    {
     "ename": "IndentationError",
     "evalue": "expected an indented block (Temp/ipykernel_14832/2723026075.py, line 2)",
     "output_type": "error",
     "traceback": [
      "\u001b[1;36m  File \u001b[1;32m\"C:\\Users\\MANIKA~1\\AppData\\Local\\Temp/ipykernel_14832/2723026075.py\"\u001b[1;36m, line \u001b[1;32m2\u001b[0m\n\u001b[1;33m    \u001b[0m\n\u001b[1;37m    ^\u001b[0m\n\u001b[1;31mIndentationError\u001b[0m\u001b[1;31m:\u001b[0m expected an indented block\n"
     ]
    }
   ],
   "source": [
    "def fname():\n",
    "    "
   ]
  },
  {
   "cell_type": "code",
   "execution_count": 16,
   "metadata": {},
   "outputs": [],
   "source": [
    "def fname():\n",
    "    pass"
   ]
  },
  {
   "cell_type": "markdown",
   "metadata": {},
   "source": [
    "## 3. Raising exceptions\n",
    "\n",
    "exceptions are raised when corresponding errors occur at run time, but we can forcefully raise it using the keyword raise.\n",
    "\n",
    "We can also optionally pass in value to the exception to clarify why that exception was raised.\n",
    "\n",
    "- raise KeyboardInterrupt\n",
    "- raise MemoryError(\"This is an argument\")"
   ]
  },
  {
   "cell_type": "code",
   "execution_count": 17,
   "metadata": {},
   "outputs": [
    {
     "name": "stdout",
     "output_type": "stream",
     "text": [
      "Enter numerator :55\n",
      "Enter denominator : 0\n",
      "you gave zero for the b\n"
     ]
    }
   ],
   "source": [
    "a = int(input('Enter numerator :'))\n",
    "b = eval(input(\"Enter denominator : \"))\n",
    "\n",
    "try :\n",
    "    if b == 0 :\n",
    "        raise ValueError('you gave zero for the b')\n",
    "except ValueError as ve :\n",
    "    print(ve)"
   ]
  },
  {
   "cell_type": "code",
   "execution_count": 18,
   "metadata": {},
   "outputs": [
    {
     "name": "stdout",
     "output_type": "stream",
     "text": [
      "Enter numerator :88\n",
      "Enter denominator : 8\n"
     ]
    }
   ],
   "source": [
    "a = int(input('Enter numerator :'))\n",
    "b = eval(input(\"Enter denominator : \"))\n",
    "\n",
    "try :\n",
    "    if b == 0 :\n",
    "        raise ValueError('you gave zero for the b')\n",
    "except ValueError as ve :\n",
    "    print(ve)"
   ]
  },
  {
   "cell_type": "code",
   "execution_count": null,
   "metadata": {},
   "outputs": [],
   "source": []
  },
  {
   "cell_type": "code",
   "execution_count": null,
   "metadata": {},
   "outputs": [],
   "source": []
  },
  {
   "cell_type": "markdown",
   "metadata": {},
   "source": [
    "## 4. try ... finally\n",
    "\n",
    "The try statement in Python can have an optional **finally** clause. This clause is executed no matter what, and is generally used to release external resources.\n",
    "\n",
    "For example, we may be connected to a remote data center through the network or working with a file or working with a Graphical User Interface (GUI).\n",
    "\n",
    "In all these circumstances, we must clean up the resource once used, whether it was successful or not. These actions (closing a file, GUI or disconnecting from network) are performed in the finally clause to guarantee execution.\n",
    "\n",
    "Syntax is\n",
    "\n",
    "\n",
    "try :\n",
    "\n",
    "    we can write our code here\n",
    "    \n",
    "except exception :\n",
    "\n",
    "    write the statements\n",
    "    \n",
    "else :\n",
    "\n",
    "    write the statements\n",
    "    \n",
    "finally :\n",
    "\n",
    "    write the statements\n",
    "    \n",
    "    \n",
    "    \n",
    "\n",
    "\n",
    "\n",
    "\n",
    "\n",
    "another syntax is\n",
    "\n",
    "try :\n",
    "\n",
    "    we can write our code here\n",
    "    \n",
    "except exception1 :\n",
    "\n",
    "    if there is exception1, then it executes this block\n",
    "    \n",
    "except exception2:\n",
    "\n",
    "    if there is exception2, then it executes this block\n",
    "    \n",
    ". . . . . . . . \n",
    "\n",
    ". . . . . . . .\n",
    "\n",
    "else :\n",
    "\n",
    "    if there is no exception, then it executes else block of code\n",
    "\n",
    "finally  :\n",
    "\n",
    "    write the statements(i.e., this finally block of code will execute itself in any condition)\n"
   ]
  },
  {
   "cell_type": "code",
   "execution_count": 25,
   "metadata": {},
   "outputs": [
    {
     "name": "stdout",
     "output_type": "stream",
     "text": [
      "Enter two numbers, separated by a comma : 23, 10\n",
      "Result is  2.3\n",
      "There are no exceptions\n",
      "Whatever the situations are, finally block of code is executed\n"
     ]
    }
   ],
   "source": [
    "try :\n",
    "    number1, number2 = eval(input('Enter two numbers, separated by a comma : '))\n",
    "    result = number1 / number2\n",
    "    print('Result is ', result)\n",
    "    \n",
    "except ZeroDivisionError :\n",
    "    print('Division by zero')\n",
    "except SyntaxError :\n",
    "    print('A comma is missed in the input')\n",
    "except :\n",
    "    print('Something wrong in the input')\n",
    "else :\n",
    "    print('There are no exceptions')\n",
    "finally :\n",
    "    print('Whatever the situations are, finally block of code is executed')\n"
   ]
  },
  {
   "cell_type": "code",
   "execution_count": 26,
   "metadata": {},
   "outputs": [
    {
     "name": "stdout",
     "output_type": "stream",
     "text": [
      "Enter two numbers, separated by a comma : 6, 0\n",
      "Division by zero\n",
      "Whatever the situations are, finally block of code is executed\n"
     ]
    }
   ],
   "source": [
    "try :\n",
    "    number1, number2 = eval(input('Enter two numbers, separated by a comma : '))\n",
    "    result = number1 / number2\n",
    "    print('Result is ', result)\n",
    "    \n",
    "except ZeroDivisionError :\n",
    "    print('Division by zero')\n",
    "except SyntaxError :\n",
    "    print('A comma is missed in the input')\n",
    "except :\n",
    "    print('Something wrong in the input')\n",
    "else :\n",
    "    print('There are no exceptions')\n",
    "finally :\n",
    "    print('Whatever the situations are, finally block of code is executed')\n"
   ]
  },
  {
   "cell_type": "code",
   "execution_count": 27,
   "metadata": {},
   "outputs": [
    {
     "name": "stdout",
     "output_type": "stream",
     "text": [
      "Enter two numbers, separated by a comma : strr, 4\n",
      "Something wrong in the input\n",
      "Whatever the situations are, finally block of code is executed\n"
     ]
    }
   ],
   "source": [
    "try :\n",
    "    number1, number2 = eval(input('Enter two numbers, separated by a comma : '))\n",
    "    result = number1 / number2\n",
    "    print('Result is ', result)\n",
    "    \n",
    "except ZeroDivisionError :\n",
    "    print('Division by zero')\n",
    "except SyntaxError :\n",
    "    print('A comma is missed in the input')\n",
    "except :\n",
    "    print('Something wrong in the input')\n",
    "else :\n",
    "    print('There are no exceptions')\n",
    "finally :\n",
    "    print('Whatever the situations are, finally block of code is executed')\n"
   ]
  },
  {
   "cell_type": "code",
   "execution_count": 28,
   "metadata": {},
   "outputs": [
    {
     "name": "stdout",
     "output_type": "stream",
     "text": [
      "Enter two numbers, separated by a comma : 6 7 \n",
      "A comma is missed in the input\n",
      "Whatever the situations are, finally block of code is executed\n"
     ]
    }
   ],
   "source": [
    "try :\n",
    "    number1, number2 = eval(input('Enter two numbers, separated by a comma : '))\n",
    "    result = number1 / number2\n",
    "    print('Result is ', result)\n",
    "    \n",
    "except ZeroDivisionError :\n",
    "    print('Division by zero')\n",
    "except SyntaxError :\n",
    "    print('A comma is missed in the input')\n",
    "except :\n",
    "    print('Something wrong in the input')\n",
    "else :\n",
    "    print('There are no exceptions')\n",
    "finally :\n",
    "    print('Whatever the situations are, finally block of code is executed')\n"
   ]
  },
  {
   "cell_type": "markdown",
   "metadata": {},
   "source": [
    "## 5. Custom Exceptions\n",
    "sometimes you may need to create custom exceptions that serves your purpose.\n",
    "\n",
    "In Python, users can define such exceptions by creating a new class. This exception class has to be derived, either directly or indirectly, from Exception class. Most of the built-in exceptions are also derived form this class."
   ]
  },
  {
   "cell_type": "code",
   "execution_count": 31,
   "metadata": {},
   "outputs": [
    {
     "name": "stdout",
     "output_type": "stream",
     "text": [
      "Enter a number : 7\n",
      "This value is too small, try again!\n",
      "\n",
      "Enter a number : 12\n",
      "This value is too large, try again!\n",
      "\n",
      "Enter a number : 10\n",
      "Congratulations! you guessed the i_num correcly\n"
     ]
    }
   ],
   "source": [
    "## define Python user-defined exceptions\n",
    "\n",
    "class Error(Exception):\n",
    "    \"\"\"Base class for other exceptions\"\"\"\n",
    "    pass\n",
    "\n",
    "class ValueTooSmallError(Error):\n",
    "    \"\"\"Raised when the input value is too small\"\"\"\n",
    "    pass\n",
    "\n",
    "class ValueTooLargeError(Error):\n",
    "    \"\"\"Raised when the input value is too large\"\"\"\n",
    "    pass\n",
    "\n",
    "\n",
    "# our main program\n",
    "\n",
    "# user guesses a number until he gets it right\n",
    "\n",
    "# need to guess this number\n",
    "\n",
    "number = 10\n",
    "\n",
    "while True :\n",
    "    try :\n",
    "        i_num = int(input(\"Enter a number : \"))\n",
    "        if i_num < number :\n",
    "            raise ValueTooSmallError\n",
    "        elif i_num > number :\n",
    "            raise ValueTooLargeError\n",
    "        break\n",
    "    except ValueTooSmallError :\n",
    "        print('This value is too small, try again!')\n",
    "        print()\n",
    "    except ValueTooLargeError :\n",
    "        print('This value is too large, try again!')\n",
    "        print()\n",
    "        \n",
    "print('Congratulations! you guessed the i_num correcly')"
   ]
  },
  {
   "cell_type": "code",
   "execution_count": 32,
   "metadata": {},
   "outputs": [
    {
     "name": "stdout",
     "output_type": "stream",
     "text": [
      "Enter a number : 6\n",
      "This value is too small, try again!\n",
      "\n",
      "Enter a number : 7\n",
      "This value is too small, try again!\n",
      "\n",
      "Enter a number : 90\n",
      "This value is too large, try again!\n",
      "\n",
      "Enter a number : 5\n",
      "This value is too small, try again!\n",
      "\n",
      "Enter a number : 00\n",
      "This value is too small, try again!\n",
      "\n",
      "Enter a number : 3\n",
      "This value is too small, try again!\n",
      "\n",
      "Enter a number : 7\n",
      "This value is too small, try again!\n",
      "\n",
      "Enter a number : 99\n",
      "This value is too large, try again!\n",
      "\n",
      "Enter a number : 10\n",
      "Congratulations! you guessed the i_num correcly\n"
     ]
    }
   ],
   "source": [
    "number = 10\n",
    "\n",
    "while True :\n",
    "    try :\n",
    "        i_num = int(input(\"Enter a number : \"))\n",
    "        if i_num < number :\n",
    "            raise ValueTooSmallError\n",
    "        elif i_num > number :\n",
    "            raise ValueTooLargeError\n",
    "        break\n",
    "    except ValueTooSmallError :\n",
    "        print('This value is too small, try again!')\n",
    "        print()\n",
    "    except ValueTooLargeError :\n",
    "        print('This value is too large, try again!')\n",
    "        print()\n",
    "        \n",
    "print('Congratulations! you guessed the i_num correcly')"
   ]
  },
  {
   "cell_type": "code",
   "execution_count": null,
   "metadata": {},
   "outputs": [],
   "source": []
  },
  {
   "cell_type": "code",
   "execution_count": null,
   "metadata": {},
   "outputs": [],
   "source": []
  },
  {
   "cell_type": "code",
   "execution_count": null,
   "metadata": {},
   "outputs": [],
   "source": []
  }
 ],
 "metadata": {
  "kernelspec": {
   "display_name": "Python 3 (ipykernel)",
   "language": "python",
   "name": "python3"
  },
  "language_info": {
   "codemirror_mode": {
    "name": "ipython",
    "version": 3
   },
   "file_extension": ".py",
   "mimetype": "text/x-python",
   "name": "python",
   "nbconvert_exporter": "python",
   "pygments_lexer": "ipython3",
   "version": "3.9.12"
  }
 },
 "nbformat": 4,
 "nbformat_minor": 4
}
