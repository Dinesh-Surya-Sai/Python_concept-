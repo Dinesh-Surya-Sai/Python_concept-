{
 "cells": [
  {
   "cell_type": "markdown",
   "metadata": {},
   "source": [
    "# Today's Agenda\n",
    "> ### What are different Operators Available in Python?\n",
    "> ### What is Conditional Statement?\n",
    "> ### What are the conditional statements available in Python?\n",
    "> ### How to use Operators in Conditional Statement?"
   ]
  },
  {
   "cell_type": "markdown",
   "metadata": {},
   "source": [
    "## What is operator?\n",
    "- Operators are used to perform operations on variables and values."
   ]
  },
  {
   "cell_type": "markdown",
   "metadata": {},
   "source": [
    "## Types of Operators\n",
    "\n",
    "Python divides the operators in the following groups:\n",
    "\n",
    "- Arithmetic operators\n",
    "- Assignment operators\n",
    "- Comparison operators\n",
    "- Logical operators\n",
    "- Identity operators\n",
    "- Membership operators\n",
    "- Bitwise operators"
   ]
  },
  {
   "cell_type": "markdown",
   "metadata": {},
   "source": [
    "## Arithmetic Operators\n",
    "\n",
    "+, - , /, %, *\n"
   ]
  },
  {
   "cell_type": "code",
   "execution_count": 1,
   "metadata": {},
   "outputs": [
    {
     "data": {
      "text/plain": [
       "9"
      ]
     },
     "execution_count": 1,
     "metadata": {},
     "output_type": "execute_result"
    }
   ],
   "source": [
    "5 + 4"
   ]
  },
  {
   "cell_type": "code",
   "execution_count": 2,
   "metadata": {},
   "outputs": [
    {
     "data": {
      "text/plain": [
       "1"
      ]
     },
     "execution_count": 2,
     "metadata": {},
     "output_type": "execute_result"
    }
   ],
   "source": [
    "5 - 4"
   ]
  },
  {
   "cell_type": "code",
   "execution_count": 3,
   "metadata": {},
   "outputs": [
    {
     "data": {
      "text/plain": [
       "'54'"
      ]
     },
     "execution_count": 3,
     "metadata": {},
     "output_type": "execute_result"
    }
   ],
   "source": [
    "'5' + '4'"
   ]
  },
  {
   "cell_type": "code",
   "execution_count": 4,
   "metadata": {},
   "outputs": [
    {
     "ename": "TypeError",
     "evalue": "can only concatenate str (not \"int\") to str",
     "output_type": "error",
     "traceback": [
      "\u001b[1;31m---------------------------------------------------------------------------\u001b[0m",
      "\u001b[1;31mTypeError\u001b[0m                                 Traceback (most recent call last)",
      "\u001b[1;32mC:\\Users\\SWETHA~1\\AppData\\Local\\Temp/ipykernel_19104/1124241904.py\u001b[0m in \u001b[0;36m<module>\u001b[1;34m\u001b[0m\n\u001b[1;32m----> 1\u001b[1;33m \u001b[1;34m'5'\u001b[0m \u001b[1;33m+\u001b[0m \u001b[1;36m4\u001b[0m\u001b[1;33m\u001b[0m\u001b[1;33m\u001b[0m\u001b[0m\n\u001b[0m",
      "\u001b[1;31mTypeError\u001b[0m: can only concatenate str (not \"int\") to str"
     ]
    }
   ],
   "source": [
    "'5' + 4"
   ]
  },
  {
   "cell_type": "code",
   "execution_count": 5,
   "metadata": {},
   "outputs": [
    {
     "ename": "TypeError",
     "evalue": "can't multiply sequence by non-int of type 'str'",
     "output_type": "error",
     "traceback": [
      "\u001b[1;31m---------------------------------------------------------------------------\u001b[0m",
      "\u001b[1;31mTypeError\u001b[0m                                 Traceback (most recent call last)",
      "\u001b[1;32mC:\\Users\\SWETHA~1\\AppData\\Local\\Temp/ipykernel_19104/79297169.py\u001b[0m in \u001b[0;36m<module>\u001b[1;34m\u001b[0m\n\u001b[1;32m----> 1\u001b[1;33m \u001b[1;34m'a'\u001b[0m \u001b[1;33m*\u001b[0m \u001b[1;34m'a'\u001b[0m\u001b[1;33m\u001b[0m\u001b[1;33m\u001b[0m\u001b[0m\n\u001b[0m",
      "\u001b[1;31mTypeError\u001b[0m: can't multiply sequence by non-int of type 'str'"
     ]
    }
   ],
   "source": [
    "'a' * 'a'"
   ]
  },
  {
   "cell_type": "code",
   "execution_count": 6,
   "metadata": {},
   "outputs": [
    {
     "data": {
      "text/plain": [
       "'aaaa'"
      ]
     },
     "execution_count": 6,
     "metadata": {},
     "output_type": "execute_result"
    }
   ],
   "source": [
    "'a' * 4"
   ]
  },
  {
   "cell_type": "code",
   "execution_count": 8,
   "metadata": {},
   "outputs": [
    {
     "data": {
      "text/plain": [
       "5.0"
      ]
     },
     "execution_count": 8,
     "metadata": {},
     "output_type": "execute_result"
    }
   ],
   "source": [
    "10/2    # it returns flaot quotient"
   ]
  },
  {
   "cell_type": "code",
   "execution_count": 10,
   "metadata": {},
   "outputs": [
    {
     "data": {
      "text/plain": [
       "5"
      ]
     },
     "execution_count": 10,
     "metadata": {},
     "output_type": "execute_result"
    }
   ],
   "source": [
    "10//2   # it returns int quotient"
   ]
  },
  {
   "cell_type": "code",
   "execution_count": 13,
   "metadata": {},
   "outputs": [
    {
     "data": {
      "text/plain": [
       "5.0"
      ]
     },
     "execution_count": 13,
     "metadata": {},
     "output_type": "execute_result"
    }
   ],
   "source": [
    "10.0//2  # if any of the value is float, then it will return float quotient"
   ]
  },
  {
   "cell_type": "code",
   "execution_count": 11,
   "metadata": {},
   "outputs": [
    {
     "data": {
      "text/plain": [
       "0"
      ]
     },
     "execution_count": 11,
     "metadata": {},
     "output_type": "execute_result"
    }
   ],
   "source": [
    "10 % 2"
   ]
  },
  {
   "cell_type": "code",
   "execution_count": 12,
   "metadata": {},
   "outputs": [
    {
     "data": {
      "text/plain": [
       "100"
      ]
     },
     "execution_count": 12,
     "metadata": {},
     "output_type": "execute_result"
    }
   ],
   "source": [
    "10**2"
   ]
  },
  {
   "cell_type": "code",
   "execution_count": 16,
   "metadata": {},
   "outputs": [],
   "source": [
    "# floor and ceil\n",
    "\n",
    "# floor - returns the integer which is smaller than the number itself\n",
    "# ceil - returns the integer which is greater than the number itself"
   ]
  },
  {
   "cell_type": "code",
   "execution_count": 17,
   "metadata": {},
   "outputs": [
    {
     "data": {
      "text/plain": [
       "10"
      ]
     },
     "execution_count": 17,
     "metadata": {},
     "output_type": "execute_result"
    }
   ],
   "source": [
    "import math\n",
    "\n",
    "math.floor(10.4)"
   ]
  },
  {
   "cell_type": "code",
   "execution_count": 18,
   "metadata": {},
   "outputs": [
    {
     "data": {
      "text/plain": [
       "11"
      ]
     },
     "execution_count": 18,
     "metadata": {},
     "output_type": "execute_result"
    }
   ],
   "source": [
    "math.ceil(10.4)"
   ]
  },
  {
   "cell_type": "code",
   "execution_count": null,
   "metadata": {},
   "outputs": [],
   "source": []
  },
  {
   "cell_type": "markdown",
   "metadata": {},
   "source": [
    "## Comparison or Relational operators \n",
    "\n",
    "######   >, <, >=, <=, ==, !="
   ]
  },
  {
   "cell_type": "code",
   "execution_count": 19,
   "metadata": {},
   "outputs": [
    {
     "data": {
      "text/plain": [
       "False"
      ]
     },
     "execution_count": 19,
     "metadata": {},
     "output_type": "execute_result"
    }
   ],
   "source": [
    "3<2"
   ]
  },
  {
   "cell_type": "code",
   "execution_count": 20,
   "metadata": {},
   "outputs": [
    {
     "data": {
      "text/plain": [
       "True"
      ]
     },
     "execution_count": 20,
     "metadata": {},
     "output_type": "execute_result"
    }
   ],
   "source": [
    "3>2"
   ]
  },
  {
   "cell_type": "code",
   "execution_count": 21,
   "metadata": {},
   "outputs": [
    {
     "data": {
      "text/plain": [
       "True"
      ]
     },
     "execution_count": 21,
     "metadata": {},
     "output_type": "execute_result"
    }
   ],
   "source": [
    "3 >= 2"
   ]
  },
  {
   "cell_type": "code",
   "execution_count": 23,
   "metadata": {},
   "outputs": [
    {
     "data": {
      "text/plain": [
       "True"
      ]
     },
     "execution_count": 23,
     "metadata": {},
     "output_type": "execute_result"
    }
   ],
   "source": [
    "3 <= 3"
   ]
  },
  {
   "cell_type": "code",
   "execution_count": 24,
   "metadata": {},
   "outputs": [
    {
     "data": {
      "text/plain": [
       "False"
      ]
     },
     "execution_count": 24,
     "metadata": {},
     "output_type": "execute_result"
    }
   ],
   "source": [
    "3 <= 2"
   ]
  },
  {
   "cell_type": "markdown",
   "metadata": {},
   "source": [
    "Equality (==, !=) \n",
    "\n",
    "\n",
    "to check whether given two values equal or not\n"
   ]
  },
  {
   "cell_type": "code",
   "execution_count": 25,
   "metadata": {},
   "outputs": [
    {
     "data": {
      "text/plain": [
       "False"
      ]
     },
     "execution_count": 25,
     "metadata": {},
     "output_type": "execute_result"
    }
   ],
   "source": [
    "3 == 4"
   ]
  },
  {
   "cell_type": "code",
   "execution_count": 26,
   "metadata": {},
   "outputs": [
    {
     "data": {
      "text/plain": [
       "True"
      ]
     },
     "execution_count": 26,
     "metadata": {},
     "output_type": "execute_result"
    }
   ],
   "source": [
    "3 == 3"
   ]
  },
  {
   "cell_type": "code",
   "execution_count": 27,
   "metadata": {},
   "outputs": [
    {
     "data": {
      "text/plain": [
       "False"
      ]
     },
     "execution_count": 27,
     "metadata": {},
     "output_type": "execute_result"
    }
   ],
   "source": [
    "3 != 3"
   ]
  },
  {
   "cell_type": "code",
   "execution_count": 28,
   "metadata": {},
   "outputs": [
    {
     "data": {
      "text/plain": [
       "True"
      ]
     },
     "execution_count": 28,
     "metadata": {},
     "output_type": "execute_result"
    }
   ],
   "source": [
    "4 != 3"
   ]
  },
  {
   "cell_type": "markdown",
   "metadata": {},
   "source": [
    "## Logical operators \n",
    "- (and/or/not)"
   ]
  },
  {
   "cell_type": "code",
   "execution_count": 29,
   "metadata": {},
   "outputs": [],
   "source": [
    "x = 4\n",
    "y = 10"
   ]
  },
  {
   "cell_type": "code",
   "execution_count": 30,
   "metadata": {},
   "outputs": [
    {
     "data": {
      "text/plain": [
       "False"
      ]
     },
     "execution_count": 30,
     "metadata": {},
     "output_type": "execute_result"
    }
   ],
   "source": [
    "x>5 and y>4"
   ]
  },
  {
   "cell_type": "code",
   "execution_count": 31,
   "metadata": {},
   "outputs": [],
   "source": [
    "z = 3"
   ]
  },
  {
   "cell_type": "code",
   "execution_count": 32,
   "metadata": {},
   "outputs": [
    {
     "data": {
      "text/plain": [
       "True"
      ]
     },
     "execution_count": 32,
     "metadata": {},
     "output_type": "execute_result"
    }
   ],
   "source": [
    "x<5 and y>4 and z>1"
   ]
  },
  {
   "cell_type": "code",
   "execution_count": 33,
   "metadata": {},
   "outputs": [
    {
     "data": {
      "text/plain": [
       "True"
      ]
     },
     "execution_count": 33,
     "metadata": {},
     "output_type": "execute_result"
    }
   ],
   "source": [
    "x>5 or y>4"
   ]
  },
  {
   "cell_type": "code",
   "execution_count": 35,
   "metadata": {},
   "outputs": [
    {
     "data": {
      "text/plain": [
       "True"
      ]
     },
     "execution_count": 35,
     "metadata": {},
     "output_type": "execute_result"
    }
   ],
   "source": [
    "x<5 or y>4 and z>5"
   ]
  },
  {
   "cell_type": "markdown",
   "metadata": {},
   "source": [
    "## Identity Operators\n",
    "\n",
    "> Identity operators are used to compare the objects, not if they are equal, but if they are actually the same object, with the same memory location:\n",
    "\n",
    "- is\n",
    "- is not"
   ]
  },
  {
   "cell_type": "code",
   "execution_count": 36,
   "metadata": {},
   "outputs": [
    {
     "data": {
      "text/plain": [
       "True"
      ]
     },
     "execution_count": 36,
     "metadata": {},
     "output_type": "execute_result"
    }
   ],
   "source": [
    "x = 4\n",
    "y = 4\n",
    "\n",
    "x == y"
   ]
  },
  {
   "cell_type": "code",
   "execution_count": 37,
   "metadata": {},
   "outputs": [
    {
     "data": {
      "text/plain": [
       "True"
      ]
     },
     "execution_count": 37,
     "metadata": {},
     "output_type": "execute_result"
    }
   ],
   "source": [
    "x is y"
   ]
  },
  {
   "cell_type": "code",
   "execution_count": 38,
   "metadata": {},
   "outputs": [
    {
     "data": {
      "text/plain": [
       "True"
      ]
     },
     "execution_count": 38,
     "metadata": {},
     "output_type": "execute_result"
    }
   ],
   "source": [
    "l1 = [1,2,3]\n",
    "l2 = [1,2,3]\n",
    "\n",
    "l1 == l2"
   ]
  },
  {
   "cell_type": "code",
   "execution_count": 39,
   "metadata": {},
   "outputs": [
    {
     "data": {
      "text/plain": [
       "False"
      ]
     },
     "execution_count": 39,
     "metadata": {},
     "output_type": "execute_result"
    }
   ],
   "source": [
    "l1 is l2"
   ]
  },
  {
   "cell_type": "code",
   "execution_count": 40,
   "metadata": {},
   "outputs": [
    {
     "data": {
      "text/plain": [
       "True"
      ]
     },
     "execution_count": 40,
     "metadata": {},
     "output_type": "execute_result"
    }
   ],
   "source": [
    "l1[2] is l2[2]"
   ]
  },
  {
   "cell_type": "markdown",
   "metadata": {},
   "source": [
    "## membership operators\n",
    "\n",
    "> Membership operators are used to test if a sequence is presented in an object:\n",
    "\n",
    "- in  \n",
    "- not in"
   ]
  },
  {
   "cell_type": "code",
   "execution_count": 41,
   "metadata": {},
   "outputs": [
    {
     "data": {
      "text/plain": [
       "[1, 2, 3, 4, 5]"
      ]
     },
     "execution_count": 41,
     "metadata": {},
     "output_type": "execute_result"
    }
   ],
   "source": [
    "a = [1,2,3,4,5]\n",
    "a"
   ]
  },
  {
   "cell_type": "code",
   "execution_count": 42,
   "metadata": {},
   "outputs": [
    {
     "data": {
      "text/plain": [
       "True"
      ]
     },
     "execution_count": 42,
     "metadata": {},
     "output_type": "execute_result"
    }
   ],
   "source": [
    "1 in a"
   ]
  },
  {
   "cell_type": "code",
   "execution_count": 43,
   "metadata": {},
   "outputs": [
    {
     "data": {
      "text/plain": [
       "False"
      ]
     },
     "execution_count": 43,
     "metadata": {},
     "output_type": "execute_result"
    }
   ],
   "source": [
    "1 not in a"
   ]
  },
  {
   "cell_type": "code",
   "execution_count": 44,
   "metadata": {},
   "outputs": [
    {
     "data": {
      "text/plain": [
       "'python Program'"
      ]
     },
     "execution_count": 44,
     "metadata": {},
     "output_type": "execute_result"
    }
   ],
   "source": [
    "b = 'python Program'\n",
    "b"
   ]
  },
  {
   "cell_type": "code",
   "execution_count": 45,
   "metadata": {},
   "outputs": [
    {
     "data": {
      "text/plain": [
       "False"
      ]
     },
     "execution_count": 45,
     "metadata": {},
     "output_type": "execute_result"
    }
   ],
   "source": [
    "'w' in b"
   ]
  },
  {
   "cell_type": "code",
   "execution_count": 46,
   "metadata": {},
   "outputs": [
    {
     "data": {
      "text/plain": [
       "True"
      ]
     },
     "execution_count": 46,
     "metadata": {},
     "output_type": "execute_result"
    }
   ],
   "source": [
    "'p' in b"
   ]
  },
  {
   "cell_type": "markdown",
   "metadata": {},
   "source": [
    "## Bitwise Operators"
   ]
  },
  {
   "cell_type": "code",
   "execution_count": 47,
   "metadata": {},
   "outputs": [],
   "source": [
    "a = 10\n",
    "b = 5"
   ]
  },
  {
   "cell_type": "code",
   "execution_count": 48,
   "metadata": {},
   "outputs": [
    {
     "data": {
      "text/plain": [
       "0"
      ]
     },
     "execution_count": 48,
     "metadata": {},
     "output_type": "execute_result"
    }
   ],
   "source": [
    "a & b"
   ]
  },
  {
   "cell_type": "code",
   "execution_count": 49,
   "metadata": {},
   "outputs": [
    {
     "data": {
      "text/plain": [
       "15"
      ]
     },
     "execution_count": 49,
     "metadata": {},
     "output_type": "execute_result"
    }
   ],
   "source": [
    "a | b"
   ]
  },
  {
   "cell_type": "markdown",
   "metadata": {},
   "source": [
    "# Python Conditional Statements\n",
    "> Conditionals help us to make decisions. They excecute blocks of code based on the truthfullness of some statements. The if  elif  else keywords actually help us to write conditionals\n",
    "\n",
    "- If\n",
    "- If-else\n",
    "- Elif\n",
    "- Nested if and if-else\n",
    "- Elif ladder"
   ]
  },
  {
   "cell_type": "markdown",
   "metadata": {},
   "source": [
    "# Python Indentation\n",
    "\n",
    "A simple if block -\n",
    "\n",
    "if (number < 0):\n",
    "        \n",
    "        print(\"You entered \", number)"
   ]
  },
  {
   "cell_type": "markdown",
   "metadata": {},
   "source": [
    "In Python, the code blocks are defined by a set of common or consistent number of spaces. This is called as **Python Indentation.**\n",
    "\n",
    " The block scope will end at the first unindented line.\n",
    "\n",
    "The best practice is to use **Tab** key."
   ]
  },
  {
   "cell_type": "code",
   "execution_count": null,
   "metadata": {},
   "outputs": [],
   "source": [
    "if :\n",
    "    klfjd;ljfdaskl;fjdsl;kfjds;lkjfads;lkfj\n"
   ]
  },
  {
   "cell_type": "code",
   "execution_count": null,
   "metadata": {},
   "outputs": [],
   "source": [
    "if\n",
    "adfdfdfdf"
   ]
  },
  {
   "cell_type": "markdown",
   "metadata": {},
   "source": [
    "# 1. IF\n",
    "- The if keyword is used to check for a statement and execute the subsequent block of code based on the truthfullness of the statement. if statement contains the starter condition. As such, a condition has to be always given to the if block\n",
    "\n",
    "\n",
    "Syntax:\n",
    "\n",
    "if condition:\n",
    "\n",
    "    block_of_code"
   ]
  },
  {
   "cell_type": "code",
   "execution_count": 50,
   "metadata": {},
   "outputs": [
    {
     "name": "stdout",
     "output_type": "stream",
     "text": [
      "inside the if block\n",
      "5\n"
     ]
    }
   ],
   "source": [
    "i = 5\n",
    "\n",
    "if i < 10 :\n",
    "    print('inside the if block')\n",
    "    print(i)"
   ]
  },
  {
   "cell_type": "code",
   "execution_count": 52,
   "metadata": {},
   "outputs": [],
   "source": [
    "i = 5\n",
    "\n",
    "if i > 10 :\n",
    "    print('inside the if block')\n",
    "    print(i)"
   ]
  },
  {
   "cell_type": "code",
   "execution_count": 53,
   "metadata": {},
   "outputs": [
    {
     "name": "stdout",
     "output_type": "stream",
     "text": [
      "inside the if block\n",
      "5\n",
      "this is outside the if block\n"
     ]
    }
   ],
   "source": [
    "i = 5\n",
    "\n",
    "if i < 10 :\n",
    "    print('inside the if block')\n",
    "    print(i)\n",
    "    \n",
    "print('this is outside the if block')"
   ]
  },
  {
   "cell_type": "code",
   "execution_count": 54,
   "metadata": {},
   "outputs": [
    {
     "name": "stdout",
     "output_type": "stream",
     "text": [
      "this is outside the if block\n"
     ]
    }
   ],
   "source": [
    "i = 5\n",
    "\n",
    "if i > 10 :\n",
    "    print('inside the if block')\n",
    "    print(i)\n",
    "    \n",
    "    \n",
    "print('this is outside the if block')"
   ]
  },
  {
   "cell_type": "code",
   "execution_count": 55,
   "metadata": {},
   "outputs": [
    {
     "name": "stdout",
     "output_type": "stream",
     "text": [
      "Inside if\n",
      "Inside if\n",
      "Inside if\n"
     ]
    }
   ],
   "source": [
    "if 3-2 :\n",
    "    print('Inside if')\n",
    "    \n",
    "if 5+2 :\n",
    "    print('Inside if')\n",
    "    \n",
    "if 3-5 :\n",
    "    print('Inside if')"
   ]
  },
  {
   "cell_type": "code",
   "execution_count": 59,
   "metadata": {},
   "outputs": [
    {
     "name": "stdout",
     "output_type": "stream",
     "text": [
      "outside if\n"
     ]
    }
   ],
   "source": [
    "if 3-3 :\n",
    "    print('Inside if')\n",
    "    \n",
    "print('outside if')\n",
    "    \n"
   ]
  },
  {
   "cell_type": "markdown",
   "metadata": {},
   "source": [
    "### Operators in IF"
   ]
  },
  {
   "cell_type": "code",
   "execution_count": 61,
   "metadata": {},
   "outputs": [
    {
     "name": "stdout",
     "output_type": "stream",
     "text": [
      "20\n"
     ]
    }
   ],
   "source": [
    "# using membership operators\n",
    "\n",
    "l1 = [10,20,30,40]\n",
    "\n",
    "i = 20\n",
    "\n",
    "if i in l1 :\n",
    "    print(i)"
   ]
  },
  {
   "cell_type": "code",
   "execution_count": 64,
   "metadata": {},
   "outputs": [],
   "source": [
    "l1 = [10,20,30,40]\n",
    "\n",
    "i = 21\n",
    "\n",
    "if i in l1 :\n",
    "    print(i)\n",
    "    \n",
    "## here we do not get any output as the if condition is false and no outside statement is written"
   ]
  },
  {
   "cell_type": "code",
   "execution_count": 65,
   "metadata": {},
   "outputs": [
    {
     "name": "stdout",
     "output_type": "stream",
     "text": [
      "yes\n"
     ]
    }
   ],
   "source": [
    "if 7 >= 3 :\n",
    "    print(\"yes\")"
   ]
  },
  {
   "cell_type": "code",
   "execution_count": 70,
   "metadata": {},
   "outputs": [
    {
     "name": "stdout",
     "output_type": "stream",
     "text": [
      "Enter the number 1 : 10\n",
      "Enter the number 2 : 5\n",
      "The value of c is  15\n"
     ]
    }
   ],
   "source": [
    "a = int(input('Enter the number 1 : '))\n",
    "b = int(input('Enter the number 2 : '))\n",
    "\n",
    "c = a + b\n",
    "\n",
    "print('The value of c is ', c)\n",
    "\n",
    "if c < 0 :\n",
    "    print('The value of c is negative')"
   ]
  },
  {
   "cell_type": "code",
   "execution_count": 72,
   "metadata": {},
   "outputs": [
    {
     "name": "stdout",
     "output_type": "stream",
     "text": [
      "Enter the number 1 : 10\n",
      "Enter the number 2 : 5\n",
      "The value of c is  15\n",
      "The value of c is positive\n"
     ]
    }
   ],
   "source": [
    "a = int(input('Enter the number 1 : '))\n",
    "b = int(input('Enter the number 2 : '))\n",
    "\n",
    "c = a + b\n",
    "\n",
    "print('The value of c is ', c)\n",
    "\n",
    "if c > 0 :\n",
    "    print('The value of c is positive')\n",
    "    \n"
   ]
  },
  {
   "cell_type": "code",
   "execution_count": 73,
   "metadata": {},
   "outputs": [
    {
     "name": "stdout",
     "output_type": "stream",
     "text": [
      "Enter the number 1 : 10\n",
      "Enter the number 2 : 2\n",
      "The value of c is  12\n",
      "The value of c is positive\n"
     ]
    }
   ],
   "source": [
    "a = int(input('Enter the number 1 : '))\n",
    "b = int(input('Enter the number 2 : '))\n",
    "\n",
    "c = a + b\n",
    "\n",
    "print('The value of c is ', c)\n",
    "\n",
    "if c < 0 :\n",
    "    print('The value of c is negative')\n",
    "    \n",
    "if c > 0 :\n",
    "    print('The value of c is positive')"
   ]
  },
  {
   "cell_type": "markdown",
   "metadata": {},
   "source": [
    "### Question: WAP for passing the exam if the students meets the cutoff using 'if' condition"
   ]
  },
  {
   "cell_type": "code",
   "execution_count": 74,
   "metadata": {},
   "outputs": [
    {
     "name": "stdout",
     "output_type": "stream",
     "text": [
      "Enter the marks : 56\n",
      "Result : PASS\n"
     ]
    }
   ],
   "source": [
    "cutoffscore = 35\n",
    "\n",
    "marks_scored = int(input('Enter the marks : '))\n",
    "\n",
    "if marks_scored >= cutoffscore :\n",
    "    print('Result : PASS')"
   ]
  },
  {
   "cell_type": "code",
   "execution_count": 75,
   "metadata": {},
   "outputs": [
    {
     "name": "stdout",
     "output_type": "stream",
     "text": [
      "Enter the marks : 12\n"
     ]
    }
   ],
   "source": [
    "cutoffscore = 35\n",
    "\n",
    "marks_scored = int(input('Enter the marks : '))\n",
    "\n",
    "if marks_scored >= cutoffscore :\n",
    "    print('Result : PASS')"
   ]
  },
  {
   "cell_type": "code",
   "execution_count": 76,
   "metadata": {},
   "outputs": [
    {
     "name": "stdout",
     "output_type": "stream",
     "text": [
      "Enter the marks : 42\n",
      "Result : PASS\n"
     ]
    }
   ],
   "source": [
    "cutoffscore = 35\n",
    "\n",
    "marks_scored = input('Enter the marks : ')\n",
    "\n",
    "if int(marks_scored) >= cutoffscore :\n",
    "    print('Result : PASS')"
   ]
  },
  {
   "cell_type": "markdown",
   "metadata": {},
   "source": [
    "# 2. IF-ELSE\n",
    "\n",
    "### using IF-ELSE\n",
    "\n",
    "#### Syntax \n",
    "\n",
    "\n",
    "if condition :\n",
    "\n",
    "    block of code\n",
    "    \n",
    "else :\n",
    "\n",
    "    block of code"
   ]
  },
  {
   "cell_type": "code",
   "execution_count": 77,
   "metadata": {},
   "outputs": [
    {
     "name": "stdout",
     "output_type": "stream",
     "text": [
      "Enter the number 1 : 10\n",
      "Enter the number 2 : 20\n",
      "The value of c is  30\n",
      "The value of c is positive\n"
     ]
    }
   ],
   "source": [
    "a = int(input('Enter the number 1 : '))\n",
    "b = int(input('Enter the number 2 : '))\n",
    "\n",
    "c = a + b\n",
    "\n",
    "print('The value of c is ', c)\n",
    "\n",
    "if c < 0 :\n",
    "    print('The value of c is negative')\n",
    "    \n",
    "else :\n",
    "    print('The value of c is positive')"
   ]
  },
  {
   "cell_type": "code",
   "execution_count": 79,
   "metadata": {},
   "outputs": [
    {
     "name": "stdout",
     "output_type": "stream",
     "text": [
      "Enter the number 1 : 10\n",
      "Enter the number 2 : 20\n",
      "The value of c is  -10\n",
      "The value of c is negative\n"
     ]
    }
   ],
   "source": [
    "a = int(input('Enter the number 1 : '))\n",
    "b = int(input('Enter the number 2 : '))\n",
    "\n",
    "c = a - b\n",
    "\n",
    "print('The value of c is ', c)\n",
    "\n",
    "if c < 0 :\n",
    "    print('The value of c is negative')\n",
    "    \n",
    "else :\n",
    "    print('The value of c is positive')"
   ]
  },
  {
   "cell_type": "code",
   "execution_count": null,
   "metadata": {},
   "outputs": [],
   "source": [
    "a = int(input('Enter the number 1 : '))\n",
    "b = int(input('Enter the number 2 : '))\n",
    "\n",
    "c = a - b\n",
    "\n",
    "print('The value of c is ', c)\n",
    "\n",
    "if c < 0 :\n",
    "    print('The value of c is negative')\n",
    "    \n",
    "else :\n",
    "    print('The value of c is positive')"
   ]
  },
  {
   "cell_type": "code",
   "execution_count": 80,
   "metadata": {},
   "outputs": [
    {
     "name": "stdout",
     "output_type": "stream",
     "text": [
      "Enter the number 1 : 10\n",
      "Enter the number 2 : 30\n",
      "The value of c is  -20\n",
      "The value of c is negative\n",
      "Done\n"
     ]
    }
   ],
   "source": [
    "a = int(input('Enter the number 1 : '))\n",
    "b = int(input('Enter the number 2 : '))\n",
    "\n",
    "c = a - b\n",
    "\n",
    "print('The value of c is ', c)\n",
    "\n",
    "if c < 0 :\n",
    "    print('The value of c is negative')\n",
    "    \n",
    "else :\n",
    "    print('The value of c is positive')\n",
    "    \n",
    "print('Done')\n",
    "\n"
   ]
  },
  {
   "cell_type": "code",
   "execution_count": 81,
   "metadata": {},
   "outputs": [
    {
     "name": "stdout",
     "output_type": "stream",
     "text": [
      "Enter the number 1 : 40\n",
      "Enter the number 2 : 30\n",
      "The value of c is  10\n",
      "The value of c is positive\n",
      "Done\n"
     ]
    }
   ],
   "source": [
    "a = int(input('Enter the number 1 : '))\n",
    "b = int(input('Enter the number 2 : '))\n",
    "\n",
    "c = a - b\n",
    "\n",
    "print('The value of c is ', c)\n",
    "\n",
    "if c < 0 :\n",
    "    print('The value of c is negative')\n",
    "    \n",
    "else :\n",
    "    print('The value of c is positive')\n",
    "    \n",
    "print('Done')\n",
    "\n"
   ]
  },
  {
   "cell_type": "code",
   "execution_count": 83,
   "metadata": {},
   "outputs": [
    {
     "name": "stdout",
     "output_type": "stream",
     "text": [
      "Enter the marks : 40\n",
      "Result : PASS\n"
     ]
    }
   ],
   "source": [
    "cutoffscore = 35\n",
    "\n",
    "marks_scored = int(input('Enter the marks : '))\n",
    "\n",
    "if marks_scored >= cutoffscore :\n",
    "    print('Result : PASS')\n",
    "\n",
    "else :\n",
    "    print('Result : Fail')"
   ]
  },
  {
   "cell_type": "code",
   "execution_count": 84,
   "metadata": {},
   "outputs": [
    {
     "name": "stdout",
     "output_type": "stream",
     "text": [
      "Enter the marks : 12\n",
      "Result : Fail\n"
     ]
    }
   ],
   "source": [
    "cutoffscore = 35\n",
    "\n",
    "marks_scored = int(input('Enter the marks : '))\n",
    "\n",
    "if marks_scored >= cutoffscore :\n",
    "    print('Result : PASS')\n",
    "\n",
    "else :\n",
    "    print('Result : Fail')\n",
    "    "
   ]
  },
  {
   "cell_type": "markdown",
   "metadata": {},
   "source": [
    "## Check for the given number is even or odd"
   ]
  },
  {
   "cell_type": "code",
   "execution_count": 85,
   "metadata": {},
   "outputs": [
    {
     "name": "stdout",
     "output_type": "stream",
     "text": [
      "Enter the number : 12\n",
      "The given number is even\n"
     ]
    }
   ],
   "source": [
    "num = int(input('Enter the number : '))\n",
    "\n",
    "if num % 2 == 0 :\n",
    "    print('The given number is even')\n",
    "    \n",
    "else :\n",
    "    print('The given number is odd')"
   ]
  },
  {
   "cell_type": "code",
   "execution_count": 86,
   "metadata": {},
   "outputs": [
    {
     "name": "stdout",
     "output_type": "stream",
     "text": [
      "Enter the number : 15\n",
      "The given number is odd\n"
     ]
    }
   ],
   "source": [
    "num = int(input('Enter the number : '))\n",
    "\n",
    "if num % 2 == 0 :\n",
    "    print('The given number is even')\n",
    "    \n",
    "else :\n",
    "    print('The given number is odd')\n",
    "    "
   ]
  },
  {
   "cell_type": "markdown",
   "metadata": {},
   "source": [
    "**Note: The short-hand notations will work only if the block of code is a single line code**"
   ]
  },
  {
   "cell_type": "code",
   "execution_count": 55,
   "metadata": {},
   "outputs": [
    {
     "name": "stdout",
     "output_type": "stream",
     "text": [
      "Enter the number10\n",
      "The given number is even\n"
     ]
    }
   ],
   "source": [
    "num = int(input('Enter the number'))\n",
    "\n",
    "print(\"The given number is even\") if num%2 == 0 else print('The given num is odd')\n"
   ]
  },
  {
   "cell_type": "code",
   "execution_count": 56,
   "metadata": {},
   "outputs": [
    {
     "name": "stdout",
     "output_type": "stream",
     "text": [
      "Enter the number17\n",
      "The given num is odd\n"
     ]
    }
   ],
   "source": [
    "num = int(input('Enter the number'))\n",
    "\n",
    "print(\"The given number is even\") if num%2 == 0 else print('The given num is odd')\n"
   ]
  },
  {
   "cell_type": "markdown",
   "metadata": {},
   "source": [
    "# 3. ELSE\n",
    "- All the cases which aren't satisfied using the if statement are collected in the else block given by the else keyword. else block is the terminal block where all the edge cases are collected. As such, no statement has to be given when we are using the else"
   ]
  },
  {
   "cell_type": "code",
   "execution_count": 62,
   "metadata": {},
   "outputs": [
    {
     "name": "stdout",
     "output_type": "stream",
     "text": [
      "Enter the marks : 40\n",
      "Result : Pass \n"
     ]
    }
   ],
   "source": [
    "cutoffscore = 35\n",
    "distinction_cutoff = 75\n",
    "\n",
    "marks_scored = int(input('Enter the marks : '))\n",
    "\n",
    "# Three conditions - Pass, Pass with distinction, Fail\n",
    "\n",
    "if marks_scored >= distinction_cutoff :\n",
    "    print(\"Result : Pass with distinction\")\n",
    "\n",
    "elif marks_scored >= cutoffscore :\n",
    "    print(\"Result : Pass \")\n",
    "    \n",
    "else :\n",
    "    print('Result : Fail')"
   ]
  },
  {
   "cell_type": "code",
   "execution_count": 61,
   "metadata": {},
   "outputs": [
    {
     "name": "stdout",
     "output_type": "stream",
     "text": [
      "Enter the marks : 80\n",
      "Result : Pass with distinction\n"
     ]
    }
   ],
   "source": [
    "cutoffscore = 35\n",
    "distinction_cutoff = 75\n",
    "\n",
    "marks_scored = int(input('Enter the marks : '))\n",
    "\n",
    "# Three conditions - Pass, Pass with distinction, Fail\n",
    "\n",
    "if marks_scored >= distinction_cutoff :\n",
    "    print(\"Result : Pass with distinction\")\n",
    "\n",
    "elif marks_scored >= cutoffscore :\n",
    "    print(\"Result : Pass \")\n",
    "    \n",
    "else :\n",
    "    print('Result : Fail')"
   ]
  },
  {
   "cell_type": "code",
   "execution_count": 63,
   "metadata": {},
   "outputs": [
    {
     "name": "stdout",
     "output_type": "stream",
     "text": [
      "Enter the marks : 20\n",
      "Result : Fail\n"
     ]
    }
   ],
   "source": [
    "cutoffscore = 35\n",
    "distinction_cutoff = 75\n",
    "\n",
    "marks_scored = int(input('Enter the marks : '))\n",
    "\n",
    "# Three conditions - Pass, Pass with distinction, Fail\n",
    "\n",
    "if marks_scored >= distinction_cutoff :\n",
    "    print(\"Result : Pass with distinction\")\n",
    "\n",
    "elif marks_scored >= cutoffscore :\n",
    "    print(\"Result : Pass \")\n",
    "    \n",
    "else :\n",
    "    print('Result : Fail')"
   ]
  },
  {
   "cell_type": "code",
   "execution_count": 64,
   "metadata": {},
   "outputs": [
    {
     "name": "stdout",
     "output_type": "stream",
     "text": [
      "Enter the number : 10\n",
      "The number is positive\n"
     ]
    }
   ],
   "source": [
    "c = int(input('Enter the number : '))\n",
    "\n",
    "if c < 0 :\n",
    "    print(\"The number is negative\")\n",
    "    \n",
    "elif c > 0 :\n",
    "    print(\"The number is positive\")\n",
    "    \n",
    "else :\n",
    "    print(\"The number is zero\")"
   ]
  },
  {
   "cell_type": "code",
   "execution_count": 65,
   "metadata": {},
   "outputs": [
    {
     "name": "stdout",
     "output_type": "stream",
     "text": [
      "Enter the number : 0\n",
      "The number is zero\n"
     ]
    }
   ],
   "source": [
    "c = int(input('Enter the number : '))\n",
    "\n",
    "if c < 0 :\n",
    "    print(\"The number is negative\")\n",
    "    \n",
    "elif c > 0 :\n",
    "    print(\"The number is positive\")\n",
    "    \n",
    "else :\n",
    "    print(\"The number is zero\")"
   ]
  },
  {
   "cell_type": "code",
   "execution_count": 66,
   "metadata": {},
   "outputs": [
    {
     "name": "stdout",
     "output_type": "stream",
     "text": [
      "Enter the number : -2\n",
      "The number is negative\n"
     ]
    }
   ],
   "source": [
    "c = int(input('Enter the number : '))\n",
    "\n",
    "if c < 0 :\n",
    "    print(\"The number is negative\")\n",
    "    \n",
    "elif c > 0 :\n",
    "    print(\"The number is positive\")\n",
    "    \n",
    "else :\n",
    "    print(\"The number is zero\")"
   ]
  },
  {
   "cell_type": "markdown",
   "metadata": {},
   "source": [
    "# 4. Nested if & if-else"
   ]
  },
  {
   "cell_type": "code",
   "execution_count": 67,
   "metadata": {},
   "outputs": [
    {
     "name": "stdout",
     "output_type": "stream",
     "text": [
      "Enter the marks : 45\n",
      "Result : Pass\n"
     ]
    }
   ],
   "source": [
    "cutoffscore = 35\n",
    "distinction_cutoff = 75\n",
    "\n",
    "marks_scored = int(input(\"Enter the marks : \"))\n",
    "\n",
    "if marks_scored > cutoffscore :\n",
    "    print('Result : Pass')\n",
    "    if marks_scored >= distinction_cutoff :\n",
    "        print('Result : Pass with distinction')\n",
    "else : \n",
    "    print('Result : Fail')"
   ]
  },
  {
   "cell_type": "code",
   "execution_count": 68,
   "metadata": {},
   "outputs": [
    {
     "name": "stdout",
     "output_type": "stream",
     "text": [
      "Enter the marks : 90\n",
      "Result : Pass\n",
      "Result : Pass with distinction\n"
     ]
    }
   ],
   "source": [
    "cutoffscore = 35\n",
    "distinction_cutoff = 75\n",
    "\n",
    "marks_scored = int(input(\"Enter the marks : \"))\n",
    "\n",
    "if marks_scored > cutoffscore :\n",
    "    print('Result : Pass')\n",
    "    if marks_scored >= distinction_cutoff :\n",
    "        print('Result : Pass with distinction')\n",
    "else : \n",
    "    print('Result : Fail')"
   ]
  },
  {
   "cell_type": "code",
   "execution_count": 69,
   "metadata": {},
   "outputs": [
    {
     "name": "stdout",
     "output_type": "stream",
     "text": [
      "Enter the marks : 10\n",
      "Result : Fail\n"
     ]
    }
   ],
   "source": [
    "cutoffscore = 35\n",
    "distinction_cutoff = 75\n",
    "\n",
    "marks_scored = int(input(\"Enter the marks : \"))\n",
    "\n",
    "if marks_scored > cutoffscore :\n",
    "    print('Result : Pass')\n",
    "    if marks_scored >= distinction_cutoff :\n",
    "        print('Result : Pass with distinction')\n",
    "else : \n",
    "    print('Result : Fail')"
   ]
  },
  {
   "cell_type": "markdown",
   "metadata": {},
   "source": [
    "###### Problem on Tax Payment \n",
    "\n"
   ]
  },
  {
   "cell_type": "code",
   "execution_count": 74,
   "metadata": {},
   "outputs": [
    {
     "name": "stdout",
     "output_type": "stream",
     "text": [
      "Enter the taxable income : 1500000\n",
      "15.0\n",
      "Slab is 30% and Tax Payable is 4.5\n"
     ]
    }
   ],
   "source": [
    "taxable_income = float(input(\"Enter the taxable income : \"))\n",
    "\n",
    "# taxable_income = taxable_income/100000\n",
    "\n",
    "# 0 - 2.5 -> 0%\n",
    "# 2.5 - 5 -> 5%\n",
    "# 5 - 10 -> 20%\n",
    "# 10 or above -> 30%\n",
    "\n",
    "taxable_income = taxable_income/100000\n",
    "\n",
    "print(taxable_income)\n",
    "\n",
    "\n",
    "if taxable_income >= 10 :\n",
    "    print('Slab is {} and Tax Payable is {}'.format('30%', taxable_income*0.3))\n",
    "else:\n",
    "    if(taxable_income < 10 and taxable_income >= 5 ):\n",
    "        print('Slab is {} and Tax Payable is {}'.format('20%', taxable_income*0.2))\n",
    "    else :\n",
    "        if(taxable_income < 5 and taxable_income >= 2.5):\n",
    "            print('Slab is {} and Tax Payable is {}'.format('5%', taxable_income*0.05))\n",
    "        else:\n",
    "            print('Slab is {} and Tax Payable is {}'.format('0%', 0))\n",
    "    "
   ]
  },
  {
   "cell_type": "code",
   "execution_count": 75,
   "metadata": {},
   "outputs": [
    {
     "name": "stdout",
     "output_type": "stream",
     "text": [
      "Enter the taxable income : 400000\n",
      "4.0\n",
      "Slab is 5% and Tax Payable is 0.2\n"
     ]
    }
   ],
   "source": [
    "taxable_income = float(input(\"Enter the taxable income : \"))\n",
    "\n",
    "# taxable_income = taxable_income/100000\n",
    "\n",
    "# 0 - 2.5 -> 0%\n",
    "# 2.5 - 5 -> 5%\n",
    "# 5 - 10 -> 20%\n",
    "# 10 or above -> 30%\n",
    "\n",
    "taxable_income = taxable_income/100000\n",
    "\n",
    "print(taxable_income)\n",
    "\n",
    "\n",
    "if taxable_income >= 10 :\n",
    "    print('Slab is {} and Tax Payable is {}'.format('30%', taxable_income*0.3))\n",
    "else:\n",
    "    if(taxable_income < 10 and taxable_income >= 5 ):\n",
    "        print('Slab is {} and Tax Payable is {}'.format('20%', taxable_income*0.2))\n",
    "    else :\n",
    "        if(taxable_income < 5 and taxable_income >= 2.5):\n",
    "            print('Slab is {} and Tax Payable is {}'.format('5%', taxable_income*0.05))\n",
    "        else:\n",
    "            print('Slab is {} and Tax Payable is {}'.format('0%', 0))\n",
    "    "
   ]
  },
  {
   "cell_type": "markdown",
   "metadata": {},
   "source": [
    "# 5. Elif Ladder\n",
    "- The `elif` keyword is used to check for those conditions which weren't done so by the previous statements. As a rule of thumb, if we're checking for n number of outcomes(n > 2), we'll be having n-2 number of elif statements"
   ]
  },
  {
   "cell_type": "code",
   "execution_count": 76,
   "metadata": {},
   "outputs": [
    {
     "name": "stdout",
     "output_type": "stream",
     "text": [
      "Enter the taxable income : 200000\n",
      "2.0\n",
      "Slab is 0% and Tax Payable is 0\n"
     ]
    }
   ],
   "source": [
    "taxable_income = float(input(\"Enter the taxable income : \"))\n",
    "\n",
    "# taxable_income = taxable_income/100000\n",
    "\n",
    "# 0 - 2.5 -> 0%\n",
    "# 2.5 - 5 -> 5%\n",
    "# 5 - 10 -> 20%\n",
    "# 10 or above -> 30%\n",
    "\n",
    "taxable_income = taxable_income/100000\n",
    "\n",
    "print(taxable_income)\n",
    "\n",
    "\n",
    "if taxable_income >= 10 :\n",
    "    print('Slab is {} and Tax Payable is {}'.format('30%', taxable_income*0.3))\n",
    "elif (taxable_income < 10 and taxable_income >= 5 ):\n",
    "        print('Slab is {} and Tax Payable is {}'.format('20%', taxable_income*0.2))\n",
    "elif(taxable_income < 5 and taxable_income >= 2.5):\n",
    "    print('Slab is {} and Tax Payable is {}'.format('5%', taxable_income*0.05))\n",
    "else:\n",
    "    print('Slab is {} and Tax Payable is {}'.format('0%', 0))\n",
    "    \n"
   ]
  },
  {
   "cell_type": "code",
   "execution_count": 77,
   "metadata": {},
   "outputs": [
    {
     "name": "stdout",
     "output_type": "stream",
     "text": [
      "Enter the taxable income : 350000\n",
      "3.5\n",
      "Slab is 5% and Tax Payable is 0.17500000000000002\n"
     ]
    }
   ],
   "source": [
    "taxable_income = float(input(\"Enter the taxable income : \"))\n",
    "\n",
    "# taxable_income = taxable_income/100000\n",
    "\n",
    "# 0 - 2.5 -> 0%\n",
    "# 2.5 - 5 -> 5%\n",
    "# 5 - 10 -> 20%\n",
    "# 10 or above -> 30%\n",
    "\n",
    "taxable_income = taxable_income/100000\n",
    "\n",
    "print(taxable_income)\n",
    "\n",
    "\n",
    "if taxable_income >= 10 :\n",
    "    print('Slab is {} and Tax Payable is {}'.format('30%', taxable_income*0.3))\n",
    "elif (taxable_income < 10 and taxable_income >= 5 ):\n",
    "        print('Slab is {} and Tax Payable is {}'.format('20%', taxable_income*0.2))\n",
    "elif(taxable_income < 5 and taxable_income >= 2.5):\n",
    "    print('Slab is {} and Tax Payable is {}'.format('5%', taxable_income*0.05))\n",
    "else:\n",
    "    print('Slab is {} and Tax Payable is {}'.format('0%', 0))\n",
    "    \n"
   ]
  },
  {
   "cell_type": "markdown",
   "metadata": {},
   "source": [
    "## Some example questions"
   ]
  },
  {
   "cell_type": "markdown",
   "metadata": {},
   "source": [
    "###### 1. Write a program which will accept a word from the user and is going to check whether the word starts with a vowel or not"
   ]
  },
  {
   "cell_type": "code",
   "execution_count": 78,
   "metadata": {},
   "outputs": [
    {
     "name": "stdout",
     "output_type": "stream",
     "text": [
      "Enter the word you want to check : innomatics\n",
      "The given word starts with a vowel\n"
     ]
    }
   ],
   "source": [
    "word = input(\"Enter the word you want to check : \")\n",
    "\n",
    "# creating a vowel list to refer while checking\n",
    "vowel = ['a', 'e', 'i', 'o', 'u']\n",
    "\n",
    "if word[0] in vowel :\n",
    "    print('The given word starts with a vowel')\n",
    "else:\n",
    "    print(\"The given word doesnot start with a vowel\")\n"
   ]
  },
  {
   "cell_type": "code",
   "execution_count": 79,
   "metadata": {},
   "outputs": [
    {
     "name": "stdout",
     "output_type": "stream",
     "text": [
      "Enter the word you want to check : innomatics\n",
      "The given word Innomatics starts with a vowel\n"
     ]
    }
   ],
   "source": [
    "word = input(\"Enter the word you want to check : \")\n",
    "\n",
    "# creating a vowel list to refer while checking\n",
    "vowel = ['a', 'e', 'i', 'o', 'u']\n",
    "\n",
    "if word[0] in vowel :\n",
    "    print('The given word {} starts with a vowel'.format(word.capitalize()))\n",
    "else:\n",
    "    print(\"The given word {} doesnot start with a vowel\".format(word.capitalize()))\n"
   ]
  },
  {
   "cell_type": "markdown",
   "metadata": {},
   "source": [
    "###### 2. Write a program which will accept a word and a number from the user. Check if the word starts with a vowel and the number is even and write appropriate conditions accordingly"
   ]
  },
  {
   "cell_type": "code",
   "execution_count": 80,
   "metadata": {},
   "outputs": [
    {
     "name": "stdout",
     "output_type": "stream",
     "text": [
      "Enter the word you want to check : inno\n",
      "Enter a number : 12\n",
      "Both conditions are satisfied\n"
     ]
    }
   ],
   "source": [
    "word = input(\"Enter the word you want to check : \")\n",
    "num = int(input('Enter a number : '))\n",
    "\n",
    "vowel = ['a', 'e', 'i', 'o', 'u']\n",
    "\n",
    "if (word[0] in vowel) and (num%2 == 0) :\n",
    "    print(\"Both conditions are satisfied\")\n",
    "elif (word[0] in vowel) or (num%2 == 0):\n",
    "    print('Any of the condition is satisfied')\n",
    "else :\n",
    "    print('None of the conditions are satisfied')"
   ]
  },
  {
   "cell_type": "code",
   "execution_count": 81,
   "metadata": {},
   "outputs": [
    {
     "name": "stdout",
     "output_type": "stream",
     "text": [
      "Enter the word you want to check : Hello\n",
      "Enter a number : 10\n",
      "Any of the condition is satisfied\n"
     ]
    }
   ],
   "source": [
    "word = input(\"Enter the word you want to check : \")\n",
    "num = int(input('Enter a number : '))\n",
    "\n",
    "vowel = ['a', 'e', 'i', 'o', 'u']\n",
    "\n",
    "if (word[0] in vowel) and (num%2 == 0) :\n",
    "    print(\"Both conditions are satisfied\")\n",
    "elif (word[0] in vowel) or (num%2 == 0):\n",
    "    print('Any of the condition is satisfied')\n",
    "else :\n",
    "    print('None of the conditions are satisfied')"
   ]
  },
  {
   "cell_type": "code",
   "execution_count": 82,
   "metadata": {},
   "outputs": [
    {
     "name": "stdout",
     "output_type": "stream",
     "text": [
      "Enter the word you want to check : hi\n",
      "Enter a number : 11\n",
      "None of the conditions are satisfied\n"
     ]
    }
   ],
   "source": [
    "word = input(\"Enter the word you want to check : \")\n",
    "num = int(input('Enter a number : '))\n",
    "\n",
    "vowel = ['a', 'e', 'i', 'o', 'u']\n",
    "\n",
    "if (word[0] in vowel) and (num%2 == 0) :\n",
    "    print(\"Both conditions are satisfied\")\n",
    "elif (word[0] in vowel) or (num%2 == 0):\n",
    "    print('Any of the condition is satisfied')\n",
    "else :\n",
    "    print('None of the conditions are satisfied')"
   ]
  },
  {
   "cell_type": "markdown",
   "metadata": {},
   "source": [
    "### 3. Attendance Problem"
   ]
  },
  {
   "cell_type": "code",
   "execution_count": 83,
   "metadata": {},
   "outputs": [
    {
     "name": "stdout",
     "output_type": "stream",
     "text": [
      "Enter your name : Swetha\n",
      "Welcome to the class\n"
     ]
    }
   ],
   "source": [
    "attendees = ['Abhilash', 'Divya', 'Manasa', 'Mrudhula', 'Srilekha', 'Sriram','Sudha']\n",
    "trainer = 'Swetha'\n",
    "\n",
    "user_ip = input('Enter your name : ')\n",
    "\n",
    "if user_ip == trainer :\n",
    "    print('Welcome to the class')\n",
    "elif user_ip in attendees :\n",
    "    print('Welcome to the class')\n",
    "else:\n",
    "    print('Sorry you are not allowed')"
   ]
  },
  {
   "cell_type": "code",
   "execution_count": 85,
   "metadata": {},
   "outputs": [
    {
     "name": "stdout",
     "output_type": "stream",
     "text": [
      "Enter your name : Divya\n",
      "Welcome to the class\n"
     ]
    }
   ],
   "source": [
    "attendees = ['Abhilash', 'Divya', 'Manasa', 'Mrudhula', 'Srilekha', 'Sriram','Sudha']\n",
    "trainer = 'Swetha'\n",
    "\n",
    "user_ip = input('Enter your name : ')\n",
    "\n",
    "if user_ip == trainer :\n",
    "    print('Welcome to the class')\n",
    "elif user_ip in attendees :\n",
    "    print('Welcome to the class')\n",
    "else:\n",
    "    print('Sorry you are not allowed')"
   ]
  },
  {
   "cell_type": "code",
   "execution_count": 86,
   "metadata": {},
   "outputs": [
    {
     "name": "stdout",
     "output_type": "stream",
     "text": [
      "Enter your name : hi\n",
      "Sorry you are not allowed\n"
     ]
    }
   ],
   "source": [
    "attendees = ['Abhilash', 'Divya', 'Manasa', 'Mrudhula', 'Srilekha', 'Sriram','Sudha']\n",
    "trainer = 'Swetha'\n",
    "\n",
    "user_ip = input('Enter your name : ')\n",
    "\n",
    "if user_ip == trainer :\n",
    "    print('Welcome to the class')\n",
    "elif user_ip in attendees :\n",
    "    print('Welcome to the class')\n",
    "else:\n",
    "    print('Sorry you are not allowed')"
   ]
  },
  {
   "cell_type": "code",
   "execution_count": null,
   "metadata": {},
   "outputs": [],
   "source": []
  }
 ],
 "metadata": {
  "kernelspec": {
   "display_name": "Python 3 (ipykernel)",
   "language": "python",
   "name": "python3"
  },
  "language_info": {
   "codemirror_mode": {
    "name": "ipython",
    "version": 3
   },
   "file_extension": ".py",
   "mimetype": "text/x-python",
   "name": "python",
   "nbconvert_exporter": "python",
   "pygments_lexer": "ipython3",
   "version": "3.9.7"
  }
 },
 "nbformat": 4,
 "nbformat_minor": 4
}
